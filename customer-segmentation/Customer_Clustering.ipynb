{
 "cells": [
  {
   "cell_type": "markdown",
   "id": "cba2c94d",
   "metadata": {},
   "source": [
    "# 🛍️ Customer Segmentation (K-Means)\n",
    "This notebook segments customers using K-Means clustering."
   ]
  },
  {
   "cell_type": "code",
   "execution_count": null,
   "id": "39da2ea5",
   "metadata": {},
   "outputs": [],
   "source": [
    "import pandas as pd\n",
    "import matplotlib.pyplot as plt\n",
    "from sklearn.cluster import KMeans"
   ]
  },
  {
   "cell_type": "code",
   "execution_count": null,
   "id": "e1b7f1ca",
   "metadata": {},
   "outputs": [],
   "source": [
    "df = pd.read_csv('Customer_Clustering.csv')\n",
    "df.head()"
   ]
  },
  {
   "cell_type": "code",
   "execution_count": null,
   "id": "fd00282f",
   "metadata": {},
   "outputs": [],
   "source": [
    "model = KMeans(n_clusters=3, random_state=42)\n",
    "df['Cluster'] = model.fit_predict(df)"
   ]
  },
  {
   "cell_type": "code",
   "execution_count": null,
   "id": "29386da7",
   "metadata": {},
   "outputs": [],
   "source": [
    "plt.scatter(df['Annual_Spend'], df['Visit_Frequency'], c=df['Cluster'], cmap='viridis')\n",
    "plt.xlabel('Annual Spend')\n",
    "plt.ylabel('Visit Frequency')\n",
    "plt.title('Customer Segmentation')\n",
    "plt.grid(True)\n",
    "plt.show()"
   ]
  }
 ],
 "metadata": {},
 "nbformat": 4,
 "nbformat_minor": 5
}
