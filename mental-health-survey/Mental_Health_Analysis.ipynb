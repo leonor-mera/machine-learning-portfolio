{
 "cells": [
  {
   "cell_type": "markdown",
   "id": "518cf0ba",
   "metadata": {},
   "source": [
    "# 🧠 Mental Health and Productivity in Tech\n",
    "\n",
    "This notebook explores how gender, remote work, and company support influence mental health and productivity levels among tech professionals."
   ]
  },
  {
   "cell_type": "markdown",
   "id": "368f5b58",
   "metadata": {},
   "source": [
    "## 📥 Load Data"
   ]
  },
  {
   "cell_type": "code",
   "execution_count": null,
   "id": "ec81c4c1",
   "metadata": {},
   "outputs": [],
   "source": [
    "import pandas as pd\n",
    "import seaborn as sns\n",
    "import matplotlib.pyplot as plt\n",
    "\n",
    "# Load dataset\n",
    "df = pd.read_csv('mental_health_survey.csv')\n",
    "df.head()"
   ]
  },
  {
   "cell_type": "markdown",
   "id": "bdf566be",
   "metadata": {},
   "source": [
    "## 📊 Summary Statistics and Distribution"
   ]
  },
  {
   "cell_type": "code",
   "execution_count": null,
   "id": "b431f7ed",
   "metadata": {},
   "outputs": [],
   "source": [
    "df.describe(include='all')"
   ]
  },
  {
   "cell_type": "markdown",
   "id": "d390f97d",
   "metadata": {},
   "source": [
    "## 🧮 Productivity by Company Support"
   ]
  },
  {
   "cell_type": "code",
   "execution_count": null,
   "id": "ac5fe202",
   "metadata": {},
   "outputs": [],
   "source": [
    "sns.boxplot(x='Company_support', y='Productivity_level', data=df)\n",
    "plt.title('Productivity by Company Support')\n",
    "plt.show()"
   ]
  },
  {
   "cell_type": "markdown",
   "id": "4b77f56d",
   "metadata": {},
   "source": [
    "## 👥 Mental Health by Gender"
   ]
  },
  {
   "cell_type": "code",
   "execution_count": null,
   "id": "81a3da2a",
   "metadata": {},
   "outputs": [],
   "source": [
    "sns.countplot(x='Gender', hue='Mental_health_issue', data=df)\n",
    "plt.title('Mental Health Issue by Gender')\n",
    "plt.xticks(rotation=45)\n",
    "plt.show()"
   ]
  },
  {
   "cell_type": "markdown",
   "id": "a081506b",
   "metadata": {},
   "source": [
    "## 🌐 Remote Work and Mental Health"
   ]
  },
  {
   "cell_type": "code",
   "execution_count": null,
   "id": "b3301b11",
   "metadata": {},
   "outputs": [],
   "source": [
    "sns.countplot(x='Remote_work', hue='Mental_health_issue', data=df)\n",
    "plt.title('Remote Work vs Mental Health')\n",
    "plt.show()"
   ]
  },
  {
   "cell_type": "markdown",
   "id": "cd52d53a",
   "metadata": {},
   "source": [
    "## 📌 Conclusion\n",
    "\n",
    "- Employees with company support tend to report higher productivity.\n",
    "- Gender plays a role in the likelihood of reporting mental health issues.\n",
    "- Remote work doesn't appear to have a strong negative impact on mental health in this sample.\n",
    "\n",
    "This analysis can guide better workplace policies and culture in the tech sector."
   ]
  }
 ],
 "metadata": {},
 "nbformat": 4,
 "nbformat_minor": 5
}
