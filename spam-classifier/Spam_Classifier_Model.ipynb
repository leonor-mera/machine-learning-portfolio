{
 "cells": [
  {
   "cell_type": "markdown",
   "id": "a09f33a0",
   "metadata": {},
   "source": [
    "# 📧 Email Spam Classifier\n",
    "This notebook uses logistic regression to classify emails as spam or not spam."
   ]
  },
  {
   "cell_type": "code",
   "execution_count": null,
   "id": "25518062",
   "metadata": {},
   "outputs": [],
   "source": [
    "import pandas as pd\n",
    "from sklearn.linear_model import LogisticRegression\n",
    "from sklearn.model_selection import train_test_split\n",
    "from sklearn.metrics import accuracy_score, classification_report"
   ]
  },
  {
   "cell_type": "code",
   "execution_count": null,
   "id": "ac768980",
   "metadata": {},
   "outputs": [],
   "source": [
    "df = pd.read_csv('Spam_Classifier_Model.csv')\n",
    "df.head()"
   ]
  },
  {
   "cell_type": "code",
   "execution_count": null,
   "id": "423a2011",
   "metadata": {},
   "outputs": [],
   "source": [
    "X = df.drop('Spam', axis=1)\n",
    "y = df['Spam']\n",
    "X_train, X_test, y_train, y_test = train_test_split(X, y, test_size=0.2, random_state=42)"
   ]
  },
  {
   "cell_type": "code",
   "execution_count": null,
   "id": "10f74152",
   "metadata": {},
   "outputs": [],
   "source": [
    "model = LogisticRegression()\n",
    "model.fit(X_train, y_train)\n",
    "y_pred = model.predict(X_test)"
   ]
  },
  {
   "cell_type": "code",
   "execution_count": null,
   "id": "33c34f17",
   "metadata": {},
   "outputs": [],
   "source": [
    "print('Accuracy:', accuracy_score(y_test, y_pred))\n",
    "print(classification_report(y_test, y_pred))"
   ]
  }
 ],
 "metadata": {},
 "nbformat": 4,
 "nbformat_minor": 5
}
