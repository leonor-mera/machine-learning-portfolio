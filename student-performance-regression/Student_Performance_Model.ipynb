{
 "cells": [
  {
   "cell_type": "markdown",
   "id": "43a75aac",
   "metadata": {},
   "source": [
    "# 🎓 Predicting Student Performance\n",
    "This notebook uses linear regression to predict student final grades based on study time, parental education level, and absences."
   ]
  },
  {
   "cell_type": "code",
   "execution_count": null,
   "id": "8e6f45ff",
   "metadata": {},
   "outputs": [],
   "source": [
    "import pandas as pd\n",
    "import matplotlib.pyplot as plt\n",
    "from sklearn.linear_model import LinearRegression\n",
    "from sklearn.metrics import mean_absolute_error, mean_squared_error"
   ]
  },
  {
   "cell_type": "code",
   "execution_count": null,
   "id": "1c84b963",
   "metadata": {},
   "outputs": [],
   "source": [
    "df = pd.read_csv('Student_Performance_Model.csv')\n",
    "df.head()"
   ]
  },
  {
   "cell_type": "code",
   "execution_count": null,
   "id": "fd60a1fe",
   "metadata": {},
   "outputs": [],
   "source": [
    "X = df[['Study_Hours', 'Parental_Education_Level', 'Absences']]\n",
    "y = df['Final_Grade']\n",
    "model = LinearRegression()\n",
    "model.fit(X, y)\n",
    "y_pred = model.predict(X)"
   ]
  },
  {
   "cell_type": "code",
   "execution_count": null,
   "id": "9e1c7c2e",
   "metadata": {},
   "outputs": [],
   "source": [
    "mae = mean_absolute_error(y, y_pred)\n",
    "mse = mean_squared_error(y, y_pred)\n",
    "rmse = mse ** 0.5\n",
    "print(f'MAE: {mae:.2f}, RMSE: {rmse:.2f}')"
   ]
  },
  {
   "cell_type": "code",
   "execution_count": null,
   "id": "2239e7d7",
   "metadata": {},
   "outputs": [],
   "source": [
    "plt.scatter(y, y_pred)\n",
    "plt.xlabel('Actual Grades')\n",
    "plt.ylabel('Predicted Grades')\n",
    "plt.title('Actual vs Predicted')\n",
    "plt.grid(True)\n",
    "plt.show()"
   ]
  }
 ],
 "metadata": {},
 "nbformat": 4,
 "nbformat_minor": 5
}
